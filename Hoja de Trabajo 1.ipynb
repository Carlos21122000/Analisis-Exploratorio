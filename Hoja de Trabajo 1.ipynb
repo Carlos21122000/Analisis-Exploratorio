{
 "cells": [
  {
   "cell_type": "code",
   "execution_count": 1,
   "id": "d4a25761",
   "metadata": {},
   "outputs": [],
   "source": [
    "# importar librerias\n",
    "import pandas as pd\n",
    "import numpy as np\n",
    "import matplotlib.pyplot as plt\n",
    "import seaborn as sns\n",
    "import scipy.stats as stats\n",
    "import statsmodels.stats.diagnostic as diag\n",
    "import statsmodels.api as sm"
   ]
  },
  {
   "cell_type": "code",
   "execution_count": 2,
   "id": "c867e792",
   "metadata": {},
   "outputs": [],
   "source": [
    "#importar el csv y imprimir las primeras 5 lineas\n",
    "datos = pd.read_csv('movies.csv')"
   ]
  },
  {
   "cell_type": "code",
   "execution_count": 3,
   "id": "2b83c5c7",
   "metadata": {},
   "outputs": [
    {
     "name": "stderr",
     "output_type": "stream",
     "text": [
      "C:\\Users\\Juan\\AppData\\Local\\Temp\\ipykernel_3768\\984554686.py:4: FutureWarning: In a future version of pandas all arguments of DataFrame.drop except for the argument 'labels' will be keyword-only\n",
      "  datos = datos.drop('id', 1)\n"
     ]
    }
   ],
   "source": [
    "# data cleaning\n",
    "datos.drop_duplicates(keep='first')\n",
    "#drop id column\n",
    "datos = datos.drop('id', 1) \n",
    "#convert castmen and cast women to int\n",
    "datos['castWomenAmount'] = pd.to_numeric(datos['castWomenAmount'],errors='coerce')\n",
    "datos['castMenAmount'] = pd.to_numeric(datos['castMenAmount'],errors='coerce')\n",
    "#change releaseDate to datime format\n",
    "\n",
    "datos['releaseDate'] = datos['releaseDate'].str.replace('-','/')\n",
    "datos['releaseDate'] = pd.to_datetime(datos['releaseDate'], infer_datetime_format=True)"
   ]
  },
  {
   "cell_type": "code",
   "execution_count": 6,
   "id": "907f1802",
   "metadata": {},
   "outputs": [
    {
     "data": {
      "text/html": [
       "<div>\n",
       "<style scoped>\n",
       "    .dataframe tbody tr th:only-of-type {\n",
       "        vertical-align: middle;\n",
       "    }\n",
       "\n",
       "    .dataframe tbody tr th {\n",
       "        vertical-align: top;\n",
       "    }\n",
       "\n",
       "    .dataframe thead th {\n",
       "        text-align: right;\n",
       "    }\n",
       "</style>\n",
       "<table border=\"1\" class=\"dataframe\">\n",
       "  <thead>\n",
       "    <tr style=\"text-align: right;\">\n",
       "      <th></th>\n",
       "      <th>budget</th>\n",
       "      <th>genres</th>\n",
       "      <th>homePage</th>\n",
       "      <th>productionCompany</th>\n",
       "      <th>productionCompanyCountry</th>\n",
       "      <th>productionCountry</th>\n",
       "      <th>revenue</th>\n",
       "      <th>runtime</th>\n",
       "      <th>video</th>\n",
       "      <th>director</th>\n",
       "      <th>...</th>\n",
       "      <th>popularity</th>\n",
       "      <th>releaseDate</th>\n",
       "      <th>voteAvg</th>\n",
       "      <th>voteCount</th>\n",
       "      <th>genresAmount</th>\n",
       "      <th>productionCoAmount</th>\n",
       "      <th>productionCountriesAmount</th>\n",
       "      <th>actorsAmount</th>\n",
       "      <th>castWomenAmount</th>\n",
       "      <th>castMenAmount</th>\n",
       "    </tr>\n",
       "  </thead>\n",
       "  <tbody>\n",
       "    <tr>\n",
       "      <th>0</th>\n",
       "      <td>4000000</td>\n",
       "      <td>Crime|Comedy</td>\n",
       "      <td>https://www.miramax.com/movie/four-rooms/</td>\n",
       "      <td>Miramax|A Band Apart</td>\n",
       "      <td>US|US</td>\n",
       "      <td>United States of America</td>\n",
       "      <td>4257354.0</td>\n",
       "      <td>98</td>\n",
       "      <td>False</td>\n",
       "      <td>Allison Anders|Alexandre Rockwell|Robert Rodri...</td>\n",
       "      <td>...</td>\n",
       "      <td>20.880</td>\n",
       "      <td>1995-12-09</td>\n",
       "      <td>5.7</td>\n",
       "      <td>2077</td>\n",
       "      <td>2</td>\n",
       "      <td>2</td>\n",
       "      <td>1</td>\n",
       "      <td>25</td>\n",
       "      <td>15.0</td>\n",
       "      <td>9.0</td>\n",
       "    </tr>\n",
       "    <tr>\n",
       "      <th>1</th>\n",
       "      <td>21000000</td>\n",
       "      <td>Action|Thriller|Crime</td>\n",
       "      <td>NaN</td>\n",
       "      <td>Universal Pictures|Largo Entertainment|JVC</td>\n",
       "      <td>US|US|JP</td>\n",
       "      <td>Japan|United States of America</td>\n",
       "      <td>12136938.0</td>\n",
       "      <td>110</td>\n",
       "      <td>False</td>\n",
       "      <td>Stephen Hopkins</td>\n",
       "      <td>...</td>\n",
       "      <td>9.596</td>\n",
       "      <td>1993-10-15</td>\n",
       "      <td>6.5</td>\n",
       "      <td>223</td>\n",
       "      <td>3</td>\n",
       "      <td>3</td>\n",
       "      <td>2</td>\n",
       "      <td>15</td>\n",
       "      <td>3.0</td>\n",
       "      <td>9.0</td>\n",
       "    </tr>\n",
       "    <tr>\n",
       "      <th>2</th>\n",
       "      <td>11000000</td>\n",
       "      <td>Adventure|Action|Science Fiction</td>\n",
       "      <td>http://www.starwars.com/films/star-wars-episod...</td>\n",
       "      <td>Lucasfilm|20th Century Fox</td>\n",
       "      <td>US|US</td>\n",
       "      <td>United States of America</td>\n",
       "      <td>775398007.0</td>\n",
       "      <td>121</td>\n",
       "      <td>NaN</td>\n",
       "      <td>George Lucas</td>\n",
       "      <td>...</td>\n",
       "      <td>100.003</td>\n",
       "      <td>1977-05-25</td>\n",
       "      <td>8.2</td>\n",
       "      <td>16598</td>\n",
       "      <td>3</td>\n",
       "      <td>2</td>\n",
       "      <td>1</td>\n",
       "      <td>105</td>\n",
       "      <td>5.0</td>\n",
       "      <td>62.0</td>\n",
       "    </tr>\n",
       "    <tr>\n",
       "      <th>3</th>\n",
       "      <td>94000000</td>\n",
       "      <td>Animation|Family</td>\n",
       "      <td>http://movies.disney.com/finding-nemo</td>\n",
       "      <td>Pixar</td>\n",
       "      <td>US</td>\n",
       "      <td>United States of America</td>\n",
       "      <td>940335536.0</td>\n",
       "      <td>100</td>\n",
       "      <td>NaN</td>\n",
       "      <td>Andrew Stanton</td>\n",
       "      <td>...</td>\n",
       "      <td>134.435</td>\n",
       "      <td>2003-05-30</td>\n",
       "      <td>7.8</td>\n",
       "      <td>15928</td>\n",
       "      <td>2</td>\n",
       "      <td>1</td>\n",
       "      <td>1</td>\n",
       "      <td>24</td>\n",
       "      <td>5.0</td>\n",
       "      <td>18.0</td>\n",
       "    </tr>\n",
       "    <tr>\n",
       "      <th>4</th>\n",
       "      <td>55000000</td>\n",
       "      <td>Comedy|Drama|Romance</td>\n",
       "      <td>NaN</td>\n",
       "      <td>Paramount|The Steve Tisch Company</td>\n",
       "      <td>US|</td>\n",
       "      <td>United States of America</td>\n",
       "      <td>677387716.0</td>\n",
       "      <td>142</td>\n",
       "      <td>False</td>\n",
       "      <td>Robert Zemeckis</td>\n",
       "      <td>...</td>\n",
       "      <td>58.751</td>\n",
       "      <td>1994-07-06</td>\n",
       "      <td>8.5</td>\n",
       "      <td>22045</td>\n",
       "      <td>3</td>\n",
       "      <td>2</td>\n",
       "      <td>1</td>\n",
       "      <td>76</td>\n",
       "      <td>18.0</td>\n",
       "      <td>48.0</td>\n",
       "    </tr>\n",
       "  </tbody>\n",
       "</table>\n",
       "<p>5 rows × 26 columns</p>\n",
       "</div>"
      ],
      "text/plain": [
       "     budget                            genres  \\\n",
       "0   4000000                      Crime|Comedy   \n",
       "1  21000000             Action|Thriller|Crime   \n",
       "2  11000000  Adventure|Action|Science Fiction   \n",
       "3  94000000                  Animation|Family   \n",
       "4  55000000              Comedy|Drama|Romance   \n",
       "\n",
       "                                            homePage  \\\n",
       "0          https://www.miramax.com/movie/four-rooms/   \n",
       "1                                                NaN   \n",
       "2  http://www.starwars.com/films/star-wars-episod...   \n",
       "3              http://movies.disney.com/finding-nemo   \n",
       "4                                                NaN   \n",
       "\n",
       "                            productionCompany productionCompanyCountry  \\\n",
       "0                        Miramax|A Band Apart                    US|US   \n",
       "1  Universal Pictures|Largo Entertainment|JVC                 US|US|JP   \n",
       "2                  Lucasfilm|20th Century Fox                    US|US   \n",
       "3                                       Pixar                       US   \n",
       "4           Paramount|The Steve Tisch Company                      US|   \n",
       "\n",
       "                productionCountry      revenue  runtime  video  \\\n",
       "0        United States of America    4257354.0       98  False   \n",
       "1  Japan|United States of America   12136938.0      110  False   \n",
       "2        United States of America  775398007.0      121    NaN   \n",
       "3        United States of America  940335536.0      100    NaN   \n",
       "4        United States of America  677387716.0      142  False   \n",
       "\n",
       "                                            director  ... popularity  \\\n",
       "0  Allison Anders|Alexandre Rockwell|Robert Rodri...  ...     20.880   \n",
       "1                                    Stephen Hopkins  ...      9.596   \n",
       "2                                       George Lucas  ...    100.003   \n",
       "3                                     Andrew Stanton  ...    134.435   \n",
       "4                                    Robert Zemeckis  ...     58.751   \n",
       "\n",
       "  releaseDate voteAvg voteCount genresAmount productionCoAmount  \\\n",
       "0  1995-12-09     5.7      2077            2                  2   \n",
       "1  1993-10-15     6.5       223            3                  3   \n",
       "2  1977-05-25     8.2     16598            3                  2   \n",
       "3  2003-05-30     7.8     15928            2                  1   \n",
       "4  1994-07-06     8.5     22045            3                  2   \n",
       "\n",
       "   productionCountriesAmount actorsAmount  castWomenAmount  castMenAmount  \n",
       "0                          1           25             15.0            9.0  \n",
       "1                          2           15              3.0            9.0  \n",
       "2                          1          105              5.0           62.0  \n",
       "3                          1           24              5.0           18.0  \n",
       "4                          1           76             18.0           48.0  \n",
       "\n",
       "[5 rows x 26 columns]"
      ]
     },
     "execution_count": 6,
     "metadata": {},
     "output_type": "execute_result"
    }
   ],
   "source": [
    "datos.head()"
   ]
  },
  {
   "cell_type": "markdown",
   "id": "0a0a852b",
   "metadata": {},
   "source": [
    "# Explicacion rapida de los datos"
   ]
  },
  {
   "cell_type": "code",
   "execution_count": 4,
   "id": "2ac448ad",
   "metadata": {},
   "outputs": [
    {
     "name": "stdout",
     "output_type": "stream",
     "text": [
      "<class 'pandas.core.frame.DataFrame'>\n",
      "RangeIndex: 10000 entries, 0 to 9999\n",
      "Data columns (total 26 columns):\n",
      " #   Column                     Non-Null Count  Dtype         \n",
      "---  ------                     --------------  -----         \n",
      " 0   budget                     10000 non-null  int64         \n",
      " 1   genres                     9947 non-null   object        \n",
      " 2   homePage                   4193 non-null   object        \n",
      " 3   productionCompany          9543 non-null   object        \n",
      " 4   productionCompanyCountry   8720 non-null   object        \n",
      " 5   productionCountry          9767 non-null   object        \n",
      " 6   revenue                    10000 non-null  float64       \n",
      " 7   runtime                    10000 non-null  int64         \n",
      " 8   video                      9514 non-null   object        \n",
      " 9   director                   9926 non-null   object        \n",
      " 10  actors                     9920 non-null   object        \n",
      " 11  actorsPopularity           9913 non-null   object        \n",
      " 12  actorsCharacter            9953 non-null   object        \n",
      " 13  originalTitle              10000 non-null  object        \n",
      " 14  title                      10000 non-null  object        \n",
      " 15  originalLanguage           10000 non-null  object        \n",
      " 16  popularity                 10000 non-null  float64       \n",
      " 17  releaseDate                10000 non-null  datetime64[ns]\n",
      " 18  voteAvg                    10000 non-null  float64       \n",
      " 19  voteCount                  10000 non-null  int64         \n",
      " 20  genresAmount               10000 non-null  int64         \n",
      " 21  productionCoAmount         10000 non-null  int64         \n",
      " 22  productionCountriesAmount  10000 non-null  int64         \n",
      " 23  actorsAmount               10000 non-null  int64         \n",
      " 24  castWomenAmount            9963 non-null   float64       \n",
      " 25  castMenAmount              9838 non-null   float64       \n",
      "dtypes: datetime64[ns](1), float64(5), int64(7), object(13)\n",
      "memory usage: 2.0+ MB\n"
     ]
    }
   ],
   "source": [
    "#informacion general sobre los datos\n",
    "datos.info()"
   ]
  },
  {
   "cell_type": "code",
   "execution_count": null,
   "id": "aa1c6444",
   "metadata": {},
   "outputs": [],
   "source": [
    "#distribicion de los datos en el csv\n",
    "datos.nunique()"
   ]
  },
  {
   "cell_type": "code",
   "execution_count": null,
   "id": "d4ef6191",
   "metadata": {},
   "outputs": [],
   "source": [
    "#informcacion sobre el tipo de datos\n",
    "datos.dtypes"
   ]
  },
  {
   "cell_type": "markdown",
   "id": "eb84b32c",
   "metadata": {},
   "source": [
    "# Tipos de Variables"
   ]
  },
  {
   "cell_type": "code",
   "execution_count": null,
   "id": "ff945ef4",
   "metadata": {},
   "outputs": [],
   "source": [
    "#distribucion variables categoricas\n",
    "datos.describe(include=[\"O\"]).transpose()"
   ]
  },
  {
   "cell_type": "code",
   "execution_count": 5,
   "id": "b8dd797f",
   "metadata": {},
   "outputs": [
    {
     "data": {
      "text/html": [
       "<div>\n",
       "<style scoped>\n",
       "    .dataframe tbody tr th:only-of-type {\n",
       "        vertical-align: middle;\n",
       "    }\n",
       "\n",
       "    .dataframe tbody tr th {\n",
       "        vertical-align: top;\n",
       "    }\n",
       "\n",
       "    .dataframe thead th {\n",
       "        text-align: right;\n",
       "    }\n",
       "</style>\n",
       "<table border=\"1\" class=\"dataframe\">\n",
       "  <thead>\n",
       "    <tr style=\"text-align: right;\">\n",
       "      <th></th>\n",
       "      <th>count</th>\n",
       "      <th>mean</th>\n",
       "      <th>std</th>\n",
       "      <th>min</th>\n",
       "      <th>25%</th>\n",
       "      <th>50%</th>\n",
       "      <th>75%</th>\n",
       "      <th>max</th>\n",
       "    </tr>\n",
       "  </thead>\n",
       "  <tbody>\n",
       "    <tr>\n",
       "      <th>budget</th>\n",
       "      <td>10000.0</td>\n",
       "      <td>1.855163e+07</td>\n",
       "      <td>3.662669e+07</td>\n",
       "      <td>0.000</td>\n",
       "      <td>0.00000</td>\n",
       "      <td>500000.0000</td>\n",
       "      <td>2.000000e+07</td>\n",
       "      <td>3.800000e+08</td>\n",
       "    </tr>\n",
       "    <tr>\n",
       "      <th>revenue</th>\n",
       "      <td>10000.0</td>\n",
       "      <td>5.673793e+07</td>\n",
       "      <td>1.495854e+08</td>\n",
       "      <td>0.000</td>\n",
       "      <td>0.00000</td>\n",
       "      <td>163124.5000</td>\n",
       "      <td>4.479661e+07</td>\n",
       "      <td>2.847246e+09</td>\n",
       "    </tr>\n",
       "    <tr>\n",
       "      <th>runtime</th>\n",
       "      <td>10000.0</td>\n",
       "      <td>1.002681e+02</td>\n",
       "      <td>2.777783e+01</td>\n",
       "      <td>0.000</td>\n",
       "      <td>90.00000</td>\n",
       "      <td>100.0000</td>\n",
       "      <td>1.130000e+02</td>\n",
       "      <td>7.500000e+02</td>\n",
       "    </tr>\n",
       "    <tr>\n",
       "      <th>popularity</th>\n",
       "      <td>10000.0</td>\n",
       "      <td>5.139391e+01</td>\n",
       "      <td>2.167296e+02</td>\n",
       "      <td>4.258</td>\n",
       "      <td>14.57775</td>\n",
       "      <td>21.9055</td>\n",
       "      <td>4.065400e+01</td>\n",
       "      <td>1.147465e+04</td>\n",
       "    </tr>\n",
       "    <tr>\n",
       "      <th>voteAvg</th>\n",
       "      <td>10000.0</td>\n",
       "      <td>6.483490e+00</td>\n",
       "      <td>9.842740e-01</td>\n",
       "      <td>1.300</td>\n",
       "      <td>5.90000</td>\n",
       "      <td>6.5000</td>\n",
       "      <td>7.200000e+00</td>\n",
       "      <td>1.000000e+01</td>\n",
       "    </tr>\n",
       "    <tr>\n",
       "      <th>voteCount</th>\n",
       "      <td>10000.0</td>\n",
       "      <td>1.342382e+03</td>\n",
       "      <td>2.564197e+03</td>\n",
       "      <td>1.000</td>\n",
       "      <td>120.00000</td>\n",
       "      <td>415.0000</td>\n",
       "      <td>1.316000e+03</td>\n",
       "      <td>3.078800e+04</td>\n",
       "    </tr>\n",
       "    <tr>\n",
       "      <th>genresAmount</th>\n",
       "      <td>10000.0</td>\n",
       "      <td>2.596500e+00</td>\n",
       "      <td>1.154565e+00</td>\n",
       "      <td>0.000</td>\n",
       "      <td>2.00000</td>\n",
       "      <td>3.0000</td>\n",
       "      <td>3.000000e+00</td>\n",
       "      <td>1.600000e+01</td>\n",
       "    </tr>\n",
       "    <tr>\n",
       "      <th>productionCoAmount</th>\n",
       "      <td>10000.0</td>\n",
       "      <td>3.171400e+00</td>\n",
       "      <td>2.539738e+00</td>\n",
       "      <td>0.000</td>\n",
       "      <td>2.00000</td>\n",
       "      <td>3.0000</td>\n",
       "      <td>4.000000e+00</td>\n",
       "      <td>8.900000e+01</td>\n",
       "    </tr>\n",
       "    <tr>\n",
       "      <th>productionCountriesAmount</th>\n",
       "      <td>10000.0</td>\n",
       "      <td>1.751000e+00</td>\n",
       "      <td>3.012093e+00</td>\n",
       "      <td>0.000</td>\n",
       "      <td>1.00000</td>\n",
       "      <td>1.0000</td>\n",
       "      <td>2.000000e+00</td>\n",
       "      <td>1.550000e+02</td>\n",
       "    </tr>\n",
       "    <tr>\n",
       "      <th>actorsAmount</th>\n",
       "      <td>10000.0</td>\n",
       "      <td>2.147667e+03</td>\n",
       "      <td>3.720008e+04</td>\n",
       "      <td>0.000</td>\n",
       "      <td>13.00000</td>\n",
       "      <td>21.0000</td>\n",
       "      <td>3.600000e+01</td>\n",
       "      <td>9.195900e+05</td>\n",
       "    </tr>\n",
       "    <tr>\n",
       "      <th>castWomenAmount</th>\n",
       "      <td>9963.0</td>\n",
       "      <td>7.004158e+03</td>\n",
       "      <td>6.723962e+04</td>\n",
       "      <td>0.000</td>\n",
       "      <td>3.00000</td>\n",
       "      <td>6.0000</td>\n",
       "      <td>1.000000e+01</td>\n",
       "      <td>9.221620e+05</td>\n",
       "    </tr>\n",
       "    <tr>\n",
       "      <th>castMenAmount</th>\n",
       "      <td>9838.0</td>\n",
       "      <td>1.655719e+04</td>\n",
       "      <td>1.004560e+05</td>\n",
       "      <td>0.000</td>\n",
       "      <td>7.00000</td>\n",
       "      <td>12.0000</td>\n",
       "      <td>2.000000e+01</td>\n",
       "      <td>9.220170e+05</td>\n",
       "    </tr>\n",
       "  </tbody>\n",
       "</table>\n",
       "</div>"
      ],
      "text/plain": [
       "                             count          mean           std    min  \\\n",
       "budget                     10000.0  1.855163e+07  3.662669e+07  0.000   \n",
       "revenue                    10000.0  5.673793e+07  1.495854e+08  0.000   \n",
       "runtime                    10000.0  1.002681e+02  2.777783e+01  0.000   \n",
       "popularity                 10000.0  5.139391e+01  2.167296e+02  4.258   \n",
       "voteAvg                    10000.0  6.483490e+00  9.842740e-01  1.300   \n",
       "voteCount                  10000.0  1.342382e+03  2.564197e+03  1.000   \n",
       "genresAmount               10000.0  2.596500e+00  1.154565e+00  0.000   \n",
       "productionCoAmount         10000.0  3.171400e+00  2.539738e+00  0.000   \n",
       "productionCountriesAmount  10000.0  1.751000e+00  3.012093e+00  0.000   \n",
       "actorsAmount               10000.0  2.147667e+03  3.720008e+04  0.000   \n",
       "castWomenAmount             9963.0  7.004158e+03  6.723962e+04  0.000   \n",
       "castMenAmount               9838.0  1.655719e+04  1.004560e+05  0.000   \n",
       "\n",
       "                                 25%          50%           75%           max  \n",
       "budget                       0.00000  500000.0000  2.000000e+07  3.800000e+08  \n",
       "revenue                      0.00000  163124.5000  4.479661e+07  2.847246e+09  \n",
       "runtime                     90.00000     100.0000  1.130000e+02  7.500000e+02  \n",
       "popularity                  14.57775      21.9055  4.065400e+01  1.147465e+04  \n",
       "voteAvg                      5.90000       6.5000  7.200000e+00  1.000000e+01  \n",
       "voteCount                  120.00000     415.0000  1.316000e+03  3.078800e+04  \n",
       "genresAmount                 2.00000       3.0000  3.000000e+00  1.600000e+01  \n",
       "productionCoAmount           2.00000       3.0000  4.000000e+00  8.900000e+01  \n",
       "productionCountriesAmount    1.00000       1.0000  2.000000e+00  1.550000e+02  \n",
       "actorsAmount                13.00000      21.0000  3.600000e+01  9.195900e+05  \n",
       "castWomenAmount              3.00000       6.0000  1.000000e+01  9.221620e+05  \n",
       "castMenAmount                7.00000      12.0000  2.000000e+01  9.220170e+05  "
      ]
     },
     "execution_count": 5,
     "metadata": {},
     "output_type": "execute_result"
    }
   ],
   "source": [
    "#distribucion variables numericas\n",
    "datos.describe().transpose()"
   ]
  },
  {
   "cell_type": "markdown",
   "id": "42a21900",
   "metadata": {},
   "source": [
    "# Distribucion de las variables cuantitativas y sus tablas de frecuencias"
   ]
  },
  {
   "cell_type": "markdown",
   "id": "14f9a3ad",
   "metadata": {},
   "source": [
    "### Distribucion normal de las variables"
   ]
  },
  {
   "cell_type": "code",
   "execution_count": null,
   "id": "3196acbf",
   "metadata": {},
   "outputs": [],
   "source": [
    "fig = plt.figure(figsize=(15,15),constrained_layout=True)\n",
    "gs = fig.add_gridspec(nrows=3,ncols=4)\n",
    "fig.set_facecolor('#5e6e65')\n",
    "\n",
    "fig.suptitle('Histogramas de las variables Numericas', fontsize=16, color='w')\n",
    "\n",
    "ax1 = fig.add_subplot(gs[0,0])\n",
    "#ax1.hist(datos.budget)\n",
    "datos.budget.plot.kde(ax=ax1,secondary_y=True)\n",
    "ax1.set_title('budget histogram',color='w')\n",
    "\n",
    "ax2 = fig.add_subplot(gs[0,1])\n",
    "#ax2.hist(datos.revenue)\n",
    "datos.revenue.plot.kde(ax=ax2,secondary_y=True)\n",
    "ax2.set_title('revenue histogram',color='w')\n",
    "\n",
    "ax3 = fig.add_subplot(gs[0,2])\n",
    "#ax3.hist(datos.runtime)\n",
    "datos.runtime.plot.kde(ax=ax3,secondary_y=True)\n",
    "ax3.set_title('runtime histogram',color='w')\n",
    "\n",
    "ax4 = fig.add_subplot(gs[0,3])\n",
    "#ax4.hist(datos.popularity)\n",
    "datos.popularity.plot.kde(ax=ax4,secondary_y=True)\n",
    "ax4.set_title('popularity histogram',color='w')\n",
    "\n",
    "ax5 = fig.add_subplot(gs[1,0])\n",
    "#ax5.hist(datos.voteAvg)\n",
    "datos.voteAvg.plot.kde(ax=ax5,secondary_y=True)\n",
    "ax5.set_title('voteAvg histogram',color='w')\n",
    "\n",
    "ax6 = fig.add_subplot(gs[1,1])\n",
    "#ax6.hist(datos.voteCount)\n",
    "datos.voteCount.plot.kde(ax=ax6,secondary_y=True)\n",
    "ax6.set_title('voteCount histogram',color='w')\n",
    "\n",
    "ax7 = fig.add_subplot(gs[1,2])\n",
    "#ax7.hist(datos.genresAmount)\n",
    "datos.genresAmount.plot.kde(ax=ax7,secondary_y=True)\n",
    "ax7.set_title('genresAmount histogram',color='w')\n",
    "\n",
    "ax8 = fig.add_subplot(gs[1,3])\n",
    "#ax8.hist(datos.productionCoAmount)\n",
    "datos.productionCoAmount.plot.kde(ax=ax8,secondary_y=True)\n",
    "ax8.set_title('productionCoAmount histogram',color='w')\n",
    "\n",
    "ax9 = fig.add_subplot(gs[2,0])\n",
    "#ax9.hist(datos.productionCountriesAmount)\n",
    "datos.productionCountriesAmount.plot.kde(ax=ax9,secondary_y=True)\n",
    "ax9.set_title('productionCountriesAmount histogram',color='w')\n",
    "\n",
    "ax10 = fig.add_subplot(gs[2,1])\n",
    "#ax10.hist(datos.actorsAmount)\n",
    "datos.actorsAmount.plot.kde(ax=ax10,secondary_y=True)\n",
    "ax10.set_title('actorsAmount histogram',color='w')\n",
    "\n",
    "#ax11 = fig.add_subplot(gs[2,0])\n",
    "#ax11.hist(df.horsepower)\n",
    "#df.horsepower.plot.kde(ax=ax11,secondary_y=True)\n",
    "#ax11.set_title('horsepower histogram',color='w')\n",
    "\n",
    "#ax12 = fig.add_subplot(gs[2,1])\n",
    "#ax12.hist(df.peak_rpm)\n",
    "#df.peak_rpm.plot.kde(ax=ax12,secondary_y=True)\n",
    "#ax12.set_title('peak_rpm histogram',color='w')"
   ]
  },
  {
   "cell_type": "markdown",
   "id": "d9ce544b",
   "metadata": {},
   "source": [
    "### Tablas de Frecuencias"
   ]
  },
  {
   "cell_type": "code",
   "execution_count": null,
   "id": "d51e9429",
   "metadata": {},
   "outputs": [],
   "source": [
    "datos.budget.value_counts().to_frame().transpose()"
   ]
  },
  {
   "cell_type": "code",
   "execution_count": null,
   "id": "4af98b04",
   "metadata": {},
   "outputs": [],
   "source": [
    "datos.revenue.value_counts().to_frame().transpose()"
   ]
  },
  {
   "cell_type": "code",
   "execution_count": null,
   "id": "ae93c26e",
   "metadata": {},
   "outputs": [],
   "source": [
    "datos.runtime.value_counts().to_frame().transpose()"
   ]
  },
  {
   "cell_type": "code",
   "execution_count": null,
   "id": "6700b6e3",
   "metadata": {},
   "outputs": [],
   "source": [
    "datos.popularity.value_counts().to_frame().transpose()"
   ]
  },
  {
   "cell_type": "code",
   "execution_count": null,
   "id": "8ae278d4",
   "metadata": {},
   "outputs": [],
   "source": [
    "datos.voteAvg.value_counts().to_frame().transpose()"
   ]
  },
  {
   "cell_type": "code",
   "execution_count": null,
   "id": "0f82fdcf",
   "metadata": {},
   "outputs": [],
   "source": [
    "datos.voteCount.value_counts().to_frame().transpose()"
   ]
  },
  {
   "cell_type": "code",
   "execution_count": null,
   "id": "4f506e5e",
   "metadata": {},
   "outputs": [],
   "source": [
    "datos.genresAmount.value_counts().to_frame().transpose()"
   ]
  },
  {
   "cell_type": "code",
   "execution_count": null,
   "id": "839391da",
   "metadata": {},
   "outputs": [],
   "source": [
    "datos.productionCoAmount.value_counts().to_frame().transpose()"
   ]
  },
  {
   "cell_type": "code",
   "execution_count": null,
   "id": "49ce18cf",
   "metadata": {},
   "outputs": [],
   "source": [
    "datos.productionCountriesAmount.value_counts().to_frame().transpose()"
   ]
  },
  {
   "cell_type": "code",
   "execution_count": null,
   "id": "cbc0ceaf",
   "metadata": {},
   "outputs": [],
   "source": [
    "datos.actorsAmount.value_counts().to_frame().transpose()"
   ]
  },
  {
   "cell_type": "markdown",
   "id": "d4f8f807",
   "metadata": {},
   "source": [
    "## ojo al tejo"
   ]
  },
  {
   "cell_type": "code",
   "execution_count": null,
   "id": "009718bc",
   "metadata": {},
   "outputs": [],
   "source": [
    "datos[[\"budget\"]].boxplot()"
   ]
  },
  {
   "cell_type": "code",
   "execution_count": null,
   "id": "38a69d95",
   "metadata": {},
   "outputs": [],
   "source": [
    "sm.qqplot(datos[['budget']],line='45')"
   ]
  },
  {
   "cell_type": "markdown",
   "id": "5671610b",
   "metadata": {},
   "source": [
    "# Ejercicio 4"
   ]
  },
  {
   "cell_type": "markdown",
   "id": "96823c0b",
   "metadata": {},
   "source": [
    "## ¿Cuáles son las 10 películas que contaron con más presupuesto? "
   ]
  },
  {
   "cell_type": "code",
   "execution_count": null,
   "id": "85dbd7f6",
   "metadata": {
    "scrolled": true
   },
   "outputs": [],
   "source": [
    "budgetTop = datos.sort_values(by='budget', ascending=False).reset_index(drop=True)\n",
    "budgetTop = budgetTop.filter(['title','budget'],axis=1)\n",
    "budgetTop.head(n=10)"
   ]
  },
  {
   "cell_type": "markdown",
   "id": "5faa6058",
   "metadata": {},
   "source": [
    "### ¿Cuáles son las 10 películas que más ingresos tuvieron? "
   ]
  },
  {
   "cell_type": "code",
   "execution_count": null,
   "id": "0fbe777c",
   "metadata": {},
   "outputs": [],
   "source": [
    "revenueTop = datos.sort_values(by='revenue', ascending=False).reset_index(drop=True)\n",
    "revenueTop = revenueTop.filter(['title','revenue'],axis=1)\n",
    "revenueTop.head(n=10)"
   ]
  },
  {
   "cell_type": "markdown",
   "id": "467c20b3",
   "metadata": {},
   "source": [
    "### ¿Cuál es la película que más votos tuvo? "
   ]
  },
  {
   "cell_type": "code",
   "execution_count": null,
   "id": "292a6efa",
   "metadata": {},
   "outputs": [],
   "source": [
    "voteCount = datos.sort_values(by='voteCount', ascending=False).reset_index(drop=True)\n",
    "voteCount = voteCount.filter(['title','voteCount'],axis=1)\n",
    "voteCount.head(n=1)"
   ]
  },
  {
   "cell_type": "markdown",
   "id": "a2c0012a",
   "metadata": {},
   "source": [
    "### ¿Cuál es la peor película de acuerdo a los votos de todos los usuarios? "
   ]
  },
  {
   "cell_type": "code",
   "execution_count": null,
   "id": "75bbb2de",
   "metadata": {},
   "outputs": [],
   "source": [
    "#DUDA\n",
    "voteAvgCount = datos.sort_values(by='voteAvg', ascending=True).reset_index(drop=True)\n",
    "voteAvgCount = voteAvgCount.filter(['title','voteAvg'],axis=1)\n",
    "voteAvgCount.head(n=1)"
   ]
  },
  {
   "cell_type": "markdown",
   "id": "87fb9832",
   "metadata": {},
   "source": [
    "### 4.5¿Cuántas  películas  se  hicieron  en  cada  año?"
   ]
  },
  {
   "cell_type": "code",
   "execution_count": null,
   "id": "fc75e459",
   "metadata": {},
   "outputs": [],
   "source": [
    "#creating new dataframe just in case\n",
    "yearData= datos.copy()\n",
    "yearData['releaseDate'] = pd.DatetimeIndex(yearData['releaseDate']).year\n",
    "#yearData.releaseDate.value_counts().to_frame().transpose()\n",
    "#plot bar \n",
    "fig, ax = plt.subplots(figsize=(30,20)) \n",
    "ax = yearData.releaseDate.value_counts().plot.bar(color=['green','#0AFF2D','#33DB85','yellow','orange','red'],fontsize=20)\n",
    "plt.title('¿Cuántas películas se hicieron en cada año?',fontsize=30)\n",
    "plt.ylabel('Numero de Peliculas',fontsize=30)\n",
    "plt.xlabel('Year',fontsize=30)"
   ]
  },
  {
   "cell_type": "code",
   "execution_count": null,
   "id": "0228d16a",
   "metadata": {},
   "outputs": [],
   "source": [
    "yearData.releaseDate.value_counts().to_frame().transpose()"
   ]
  },
  {
   "cell_type": "markdown",
   "id": "8477a38b",
   "metadata": {},
   "source": [
    "### 4.6 ¿Cuál es el género principal de las 20 películas más recientes? ¿Cuál es el género principal que predomina en el conjunto de datos? Represéntelo usando un gráfico \n"
   ]
  },
  {
   "cell_type": "code",
   "execution_count": null,
   "id": "d4aa3a55",
   "metadata": {},
   "outputs": [],
   "source": [
    "#creating new dataframe just in case\n",
    "genderData= datos.copy()\n",
    "#new dataframe, create a new column and we do a split\n",
    "genderData[\"genero_principal\"]=datos.genres.str.split('|').str[0]\n",
    "\n"
   ]
  },
  {
   "cell_type": "code",
   "execution_count": null,
   "id": "35f3db1a",
   "metadata": {},
   "outputs": [],
   "source": [
    "#plot bar \n",
    "fig, ax = plt.subplots(figsize=(30,20)) \n",
    "ax = genderData.genero_principal.value_counts().plot.bar(color=['green','#0AFF2D','#33DB85','yellow','orange','red'],fontsize=20)\n",
    "plt.title('¿Cuál es el género principal que predomina en el conjunto de datos?',fontsize=30)\n",
    "plt.ylabel('Cantidad de generos',fontsize=30)\n",
    "plt.xlabel('generos',fontsize=30)"
   ]
  },
  {
   "cell_type": "code",
   "execution_count": null,
   "id": "d0b70ff4",
   "metadata": {},
   "outputs": [],
   "source": [
    "#creating new dataframe just in case\n",
    "genderData= genderData.sort_values(by='releaseDate', ascending=False).reset_index(drop=True)\n",
    "genderData = genderData.head(20)\n",
    "\n",
    "\n"
   ]
  },
  {
   "cell_type": "code",
   "execution_count": null,
   "id": "a5b6bf67",
   "metadata": {},
   "outputs": [],
   "source": [
    "#plot bar \n",
    "fig, ax = plt.subplots(figsize=(30,20)) \n",
    "ax = genderData.genero_principal.value_counts().plot.bar(color=['green','#0AFF2D','#33DB85','yellow','orange','red'],fontsize=20)\n",
    "plt.title(' peliculas más recientes',fontsize=30)\n",
    "plt.ylabel('Cantidad de generos',fontsize=30)\n",
    "plt.xlabel('generos',fontsize=30)"
   ]
  },
  {
   "cell_type": "markdown",
   "id": "1995cf8e",
   "metadata": {},
   "source": [
    "### 4.7¿Las películas de qué genero principal obtuvieron mayores ganancias?"
   ]
  },
  {
   "cell_type": "code",
   "execution_count": null,
   "id": "e526ab6c",
   "metadata": {},
   "outputs": [],
   "source": [
    "#creating new dataframe just in case\n",
    "genderData1= datos.copy()\n",
    "#new dataframe, create a new column and we do a split\n",
    "genderData1[\"genero_principal\"]=datos.genres.str.split('|').str[0]\n",
    "#genderData1.groupby(['revenue']).sort_values(by='revenue', ascending=True).reset_index(drop=True)\n",
    "genderData1=genderData1.groupby(\"genero_principal\")[\"revenue\"].sum().sort_values(ascending=False)"
   ]
  },
  {
   "cell_type": "code",
   "execution_count": null,
   "id": "b4ef89e0",
   "metadata": {},
   "outputs": [],
   "source": [
    "#plot bar \n",
    "fig, ax = plt.subplots(figsize=(30,20)) \n",
    "ax = genderData1.plot.bar(color=['green','#0AFF2D','#33DB85','yellow','orange','red'],fontsize=20)\n",
    "plt.title('genero de peliculas con mayores ganancias',fontsize=30)\n",
    "plt.ylabel('Ganancia',fontsize=30)\n",
    "plt.xlabel('generos',fontsize=30)"
   ]
  },
  {
   "cell_type": "markdown",
   "id": "06fcddd6",
   "metadata": {},
   "source": [
    "### 4.8¿La cantidad de actores influye en los ingresos de las películas?¿se han hecho  películas con más actores en los últimos años?"
   ]
  },
  {
   "cell_type": "code",
   "execution_count": null,
   "id": "c6ff5f35",
   "metadata": {},
   "outputs": [],
   "source": [
    "#creating new dataframe just in case\n",
    "actorsData= datos.copy()\n",
    "#new dataframe, create a new column and we do a split\n",
    "#actorsData[\"genero_principal\"]=datos.genres.str.split('|').str[0]\n",
    "#genderData1.groupby(['revenue']).sort_values(by='revenue', ascending=True).reset_index(drop=True)\n",
    "actorsData=actorsData.groupby(\"actorsAmount\")[\"revenue\"].sum().sort_index(ascending=True)\n",
    "actorsData= actorsData.head(100)      \n",
    "\n"
   ]
  },
  {
   "cell_type": "code",
   "execution_count": null,
   "id": "05c681fc",
   "metadata": {},
   "outputs": [],
   "source": [
    "#plot bar \n",
    "fig, ax = plt.subplots(figsize=(30,20)) \n",
    "ax = actorsData.plot.bar(color=['green','#0AFF2D','#33DB85','yellow','orange','red'],fontsize=20)\n",
    "plt.title('¿La cantidad de actores influye en los ingresos de las películas?',fontsize=30)\n",
    "plt.ylabel('Ingreso Pelicualas',fontsize=30)\n",
    "plt.xlabel('Cantidad de actores',fontsize=30)\n"
   ]
  },
  {
   "cell_type": "code",
   "execution_count": null,
   "id": "aec99777",
   "metadata": {},
   "outputs": [],
   "source": [
    "#creating new dataframe just in case\n",
    "actorsData1= datos.copy()\n",
    "\n",
    "#creating new dataframe just in case\n",
    "actorsData1['releaseDate']=pd.DatetimeIndex(actorsData1['releaseDate']).year\n",
    "actorsData1= actorsData1.sort_values(['releaseDate', 'actorsAmount'],ascending = [False, False]).reset_index(drop=True)\n",
    "# column actorsAmount that has a value bigger than 100000\n",
    "actorsData11 = actorsData1[ actorsData1['actorsAmount'] > 100000 ].index\n",
    "  \n",
    "# drop these row indexes\n",
    "# from dataFrame\n",
    "actorsData1.drop(actorsData11, inplace = True)\n",
    "\n",
    "#actorsData1[['releaseDate', 'actorsAmount']].head(50)\n",
    "\n",
    "#dataframe con el releaseDate y la mediana de la cantidad de actores\n",
    "#actorsData1=actorsData1.groupby([\"releaseDate\"])[\"actorsAmount\"].median()"
   ]
  },
  {
   "cell_type": "code",
   "execution_count": null,
   "id": "df1d8116",
   "metadata": {},
   "outputs": [],
   "source": [
    "#plot bar \n",
    "fig, ax = plt.subplots(figsize=(30,20)) \n",
    "ax = actorsData1.groupby([\"releaseDate\"])[\"actorsAmount\"].median().plot.bar(fontsize=20,color=['green','#0AFF2D','#33DB85','yellow','orange','red'])\n",
    "plt.title('¿se han hecho películas con más actores en los últimos años? ',fontsize=30)\n",
    "plt.ylabel('Cantidad de actores',fontsize=30)\n",
    "plt.xlabel('Years',fontsize=30)"
   ]
  },
  {
   "cell_type": "markdown",
   "id": "43522b48",
   "metadata": {},
   "source": [
    "### 4.9 ¿Es posible que la cantidad de hombres y mujeres en el  reparto influya en  la popularidad y los ingresos de las películas? "
   ]
  },
  {
   "cell_type": "code",
   "execution_count": null,
   "id": "0c35e97f",
   "metadata": {},
   "outputs": [],
   "source": []
  }
 ],
 "metadata": {
  "kernelspec": {
   "display_name": "Python 3 (ipykernel)",
   "language": "python",
   "name": "python3"
  },
  "language_info": {
   "codemirror_mode": {
    "name": "ipython",
    "version": 3
   },
   "file_extension": ".py",
   "mimetype": "text/x-python",
   "name": "python",
   "nbconvert_exporter": "python",
   "pygments_lexer": "ipython3",
   "version": "3.9.6"
  }
 },
 "nbformat": 4,
 "nbformat_minor": 5
}
